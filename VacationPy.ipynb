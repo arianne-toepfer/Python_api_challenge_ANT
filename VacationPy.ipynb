{
 "cells": [
  {
   "cell_type": "markdown",
   "metadata": {},
   "source": [
    "# VacationPy\n",
    "----\n",
    "\n",
    "#### Note\n",
    "* Keep an eye on your API usage. Use https://developers.google.com/maps/reporting/gmp-reporting as reference for how to monitor your usage and billing.\n",
    "\n",
    "* Instructions have been included for each segment. You do not have to follow them exactly, but they are included to help you think through the steps."
   ]
  },
  {
   "cell_type": "code",
   "execution_count": 1,
   "metadata": {},
   "outputs": [],
   "source": [
    "# Dependencies and Setup\n",
    "import matplotlib.pyplot as plt\n",
    "import pandas as pd\n",
    "import numpy as np\n",
    "import requests\n",
    "import gmaps\n",
    "import os\n",
    "\n",
    "# Import API key\n",
    "from api_keys import g_key"
   ]
  },
  {
   "cell_type": "markdown",
   "metadata": {},
   "source": [
    "### Store Part I results into DataFrame\n",
    "* Load the csv exported in Part I to a DataFrame"
   ]
  },
  {
   "cell_type": "code",
   "execution_count": 2,
   "metadata": {},
   "outputs": [
    {
     "output_type": "execute_result",
     "data": {
      "text/plain": [
       "   Unnamed: 0      city  latitude  Longitude  Temperature Max  Humidity  \\\n",
       "0           0     cervo   43.6702    -7.4101             8.33       100   \n",
       "1           1   mataura  -46.1927   168.8643             8.33        71   \n",
       "2           2  luderitz  -26.6481    15.1594            16.50        88   \n",
       "3           3   ushuaia  -54.8000   -68.3000             8.00        76   \n",
       "4           4    castro  -24.7911   -50.0119            13.19        96   \n",
       "\n",
       "   Cloudiness  Wind Speed Country  \n",
       "0          98        0.45      ES  \n",
       "1          98        7.60      NZ  \n",
       "2          96        1.53     NaN  \n",
       "3          75        5.66      AR  \n",
       "4          80        1.13      BR  "
      ],
      "text/html": "<div>\n<style scoped>\n    .dataframe tbody tr th:only-of-type {\n        vertical-align: middle;\n    }\n\n    .dataframe tbody tr th {\n        vertical-align: top;\n    }\n\n    .dataframe thead th {\n        text-align: right;\n    }\n</style>\n<table border=\"1\" class=\"dataframe\">\n  <thead>\n    <tr style=\"text-align: right;\">\n      <th></th>\n      <th>Unnamed: 0</th>\n      <th>city</th>\n      <th>latitude</th>\n      <th>Longitude</th>\n      <th>Temperature Max</th>\n      <th>Humidity</th>\n      <th>Cloudiness</th>\n      <th>Wind Speed</th>\n      <th>Country</th>\n    </tr>\n  </thead>\n  <tbody>\n    <tr>\n      <th>0</th>\n      <td>0</td>\n      <td>cervo</td>\n      <td>43.6702</td>\n      <td>-7.4101</td>\n      <td>8.33</td>\n      <td>100</td>\n      <td>98</td>\n      <td>0.45</td>\n      <td>ES</td>\n    </tr>\n    <tr>\n      <th>1</th>\n      <td>1</td>\n      <td>mataura</td>\n      <td>-46.1927</td>\n      <td>168.8643</td>\n      <td>8.33</td>\n      <td>71</td>\n      <td>98</td>\n      <td>7.60</td>\n      <td>NZ</td>\n    </tr>\n    <tr>\n      <th>2</th>\n      <td>2</td>\n      <td>luderitz</td>\n      <td>-26.6481</td>\n      <td>15.1594</td>\n      <td>16.50</td>\n      <td>88</td>\n      <td>96</td>\n      <td>1.53</td>\n      <td>NaN</td>\n    </tr>\n    <tr>\n      <th>3</th>\n      <td>3</td>\n      <td>ushuaia</td>\n      <td>-54.8000</td>\n      <td>-68.3000</td>\n      <td>8.00</td>\n      <td>76</td>\n      <td>75</td>\n      <td>5.66</td>\n      <td>AR</td>\n    </tr>\n    <tr>\n      <th>4</th>\n      <td>4</td>\n      <td>castro</td>\n      <td>-24.7911</td>\n      <td>-50.0119</td>\n      <td>13.19</td>\n      <td>96</td>\n      <td>80</td>\n      <td>1.13</td>\n      <td>BR</td>\n    </tr>\n  </tbody>\n</table>\n</div>"
     },
     "metadata": {},
     "execution_count": 2
    }
   ],
   "source": [
    "# Part 1 File (CSV)\n",
    "Part_1_file = pd.read_csv(\"Weather_data.csv\")\n",
    "Part_1_file.head()"
   ]
  },
  {
   "cell_type": "markdown",
   "metadata": {},
   "source": [
    "### Humidity Heatmap\n",
    "* Configure gmaps.\n",
    "* Use the Lat and Lng as locations and Humidity as the weight.\n",
    "* Add Heatmap layer to map."
   ]
  },
  {
   "cell_type": "code",
   "execution_count": 6,
   "metadata": {},
   "outputs": [],
   "source": [
    "#Store latitude and longitude into locations\n",
    "locations = Part_1_file[[\"latitude\", \"Longitude\"]]\n",
    "humidity = Part_1_file[\"Humidity\"].astype(float)"
   ]
  },
  {
   "cell_type": "code",
   "execution_count": 7,
   "metadata": {},
   "outputs": [
    {
     "output_type": "display_data",
     "data": {
      "text/plain": "Figure(layout=FigureLayout(height='420px'))",
      "application/vnd.jupyter.widget-view+json": {
       "version_major": 2,
       "version_minor": 0,
       "model_id": "b95232291c5e4f0ebe85d555eed283a4"
      }
     },
     "metadata": {}
    }
   ],
   "source": [
    "#Plot Heatmap\n",
    "fig=gmaps.figure()\n",
    "\n",
    "#create Heat Layer\n",
    "heat_layer = gmaps.heatmap_layer(locations, weights=humidity, dissipating=False, max_intensity=10, point_radius=1)\n",
    "\n",
    "#add layer\n",
    "fig.add_layer(heat_layer)\n",
    "\n",
    "#Display\n",
    "\n",
    "fig"
   ]
  },
  {
   "cell_type": "markdown",
   "metadata": {},
   "source": [
    "### Create new DataFrame fitting weather criteria\n",
    "* Narrow down the cities to fit weather conditions.\n",
    "* Drop any rows will null values."
   ]
  },
  {
   "cell_type": "code",
   "execution_count": 20,
   "metadata": {},
   "outputs": [
    {
     "output_type": "execute_result",
     "data": {
      "text/plain": [
       "\"Int64Index([  7,  14,  18,  19,  23,  27,  33,  43,  46,  51,  56,  60,  80,\\n             93, 103, 104, 115, 116, 120, 121, 123, 128, 136, 144, 149, 159,\\n            162, 170, 184, 186, 201, 216, 219, 221, 227, 228, 233, 237, 238,\\n            239, 254, 257, 261, 264, 278, 293, 306, 308, 313, 325, 326, 331,\\n            337, 351, 354, 361, 362, 376, 388, 389, 395, 399, 400, 406, 416,\\n            420, 438, 445, 449, 454, 456, 468, 472, 473, 474, 517, 518, 542,\\n            544, 545, 549, 550, 558, 560, 565, 566, 568, 570],\\n           dtype='int64')\""
      ]
     },
     "metadata": {},
     "execution_count": 20
    }
   ],
   "source": [
    "#get indices for temp over 80F or 27C\n",
    "index_temp = Part_1_file.index[Part_1_file['Temperature Max']>=27]\n",
    "str(index_temp)\n"
   ]
  },
  {
   "cell_type": "code",
   "execution_count": 25,
   "metadata": {},
   "outputs": [
    {
     "output_type": "execute_result",
     "data": {
      "text/plain": [
       "   Unnamed: 0      city  latitude  Longitude  Temperature Max  Humidity  \\\n",
       "0           0     cervo   43.6702    -7.4101             8.33       100   \n",
       "1           1   mataura  -46.1927   168.8643             8.33        71   \n",
       "2           2  luderitz  -26.6481    15.1594            16.50        88   \n",
       "3           3   ushuaia  -54.8000   -68.3000             8.00        76   \n",
       "4           4    castro  -24.7911   -50.0119            13.19        96   \n",
       "\n",
       "   Cloudiness  Wind Speed Country  \n",
       "0          98        0.45      ES  \n",
       "1          98        7.60      NZ  \n",
       "2          96        1.53     NaN  \n",
       "3          75        5.66      AR  \n",
       "4          80        1.13      BR  "
      ],
      "text/html": "<div>\n<style scoped>\n    .dataframe tbody tr th:only-of-type {\n        vertical-align: middle;\n    }\n\n    .dataframe tbody tr th {\n        vertical-align: top;\n    }\n\n    .dataframe thead th {\n        text-align: right;\n    }\n</style>\n<table border=\"1\" class=\"dataframe\">\n  <thead>\n    <tr style=\"text-align: right;\">\n      <th></th>\n      <th>Unnamed: 0</th>\n      <th>city</th>\n      <th>latitude</th>\n      <th>Longitude</th>\n      <th>Temperature Max</th>\n      <th>Humidity</th>\n      <th>Cloudiness</th>\n      <th>Wind Speed</th>\n      <th>Country</th>\n    </tr>\n  </thead>\n  <tbody>\n    <tr>\n      <th>0</th>\n      <td>0</td>\n      <td>cervo</td>\n      <td>43.6702</td>\n      <td>-7.4101</td>\n      <td>8.33</td>\n      <td>100</td>\n      <td>98</td>\n      <td>0.45</td>\n      <td>ES</td>\n    </tr>\n    <tr>\n      <th>1</th>\n      <td>1</td>\n      <td>mataura</td>\n      <td>-46.1927</td>\n      <td>168.8643</td>\n      <td>8.33</td>\n      <td>71</td>\n      <td>98</td>\n      <td>7.60</td>\n      <td>NZ</td>\n    </tr>\n    <tr>\n      <th>2</th>\n      <td>2</td>\n      <td>luderitz</td>\n      <td>-26.6481</td>\n      <td>15.1594</td>\n      <td>16.50</td>\n      <td>88</td>\n      <td>96</td>\n      <td>1.53</td>\n      <td>NaN</td>\n    </tr>\n    <tr>\n      <th>3</th>\n      <td>3</td>\n      <td>ushuaia</td>\n      <td>-54.8000</td>\n      <td>-68.3000</td>\n      <td>8.00</td>\n      <td>76</td>\n      <td>75</td>\n      <td>5.66</td>\n      <td>AR</td>\n    </tr>\n    <tr>\n      <th>4</th>\n      <td>4</td>\n      <td>castro</td>\n      <td>-24.7911</td>\n      <td>-50.0119</td>\n      <td>13.19</td>\n      <td>96</td>\n      <td>80</td>\n      <td>1.13</td>\n      <td>BR</td>\n    </tr>\n  </tbody>\n</table>\n</div>"
     },
     "metadata": {},
     "execution_count": 25
    }
   ],
   "source": [
    "# Make a new DataFrame equal to the city data to drop all humidity outliers by index.\n",
    "# Passing \"inplace=False\" will make a copy of the city_data DataFrame, which we call \"clean_city_data\".\n",
    "Perfec_temp = Part_1_file.drop(index=index_temp, inplace=False)\n",
    "Perfec_temp.head()"
   ]
  },
  {
   "cell_type": "code",
   "execution_count": 28,
   "metadata": {},
   "outputs": [
    {
     "output_type": "execute_result",
     "data": {
      "text/plain": [
       "\"Int64Index([  0,   1,   2,   3,   4,   5,   6,   9,  12,  13,\\n            ...\\n            557, 559, 561, 562, 563, 564, 567, 569, 571, 572],\\n           dtype='int64', length=359)\""
      ]
     },
     "metadata": {},
     "execution_count": 28
    }
   ],
   "source": [
    "#Get indices for temp under 70F or 21C\n",
    "index_temp2 = Perfec_temp.index[Perfec_temp['Temperature Max']<21]\n",
    "str(index_temp2)"
   ]
  },
  {
   "cell_type": "code",
   "execution_count": 29,
   "metadata": {},
   "outputs": [
    {
     "output_type": "execute_result",
     "data": {
      "text/plain": [
       "    Unnamed: 0             city  latitude  Longitude  Temperature Max  \\\n",
       "8            8   saint-philippe  -21.3585    55.7679             26.0   \n",
       "10          10        mahebourg  -20.4081    57.7000             25.0   \n",
       "11          11  bambous virieux  -20.3428    57.7575             25.0   \n",
       "21          21           cairns  -16.9167   145.7667             24.0   \n",
       "22          22            kapaa   22.0752  -159.3190             24.0   \n",
       "\n",
       "    Humidity  Cloudiness  Wind Speed Country  \n",
       "8         69           0        8.23      RE  \n",
       "10        88          75        6.69      MU  \n",
       "11        88          75        6.69      MU  \n",
       "21        94          90        6.17      AU  \n",
       "22        73          40        6.17      US  "
      ],
      "text/html": "<div>\n<style scoped>\n    .dataframe tbody tr th:only-of-type {\n        vertical-align: middle;\n    }\n\n    .dataframe tbody tr th {\n        vertical-align: top;\n    }\n\n    .dataframe thead th {\n        text-align: right;\n    }\n</style>\n<table border=\"1\" class=\"dataframe\">\n  <thead>\n    <tr style=\"text-align: right;\">\n      <th></th>\n      <th>Unnamed: 0</th>\n      <th>city</th>\n      <th>latitude</th>\n      <th>Longitude</th>\n      <th>Temperature Max</th>\n      <th>Humidity</th>\n      <th>Cloudiness</th>\n      <th>Wind Speed</th>\n      <th>Country</th>\n    </tr>\n  </thead>\n  <tbody>\n    <tr>\n      <th>8</th>\n      <td>8</td>\n      <td>saint-philippe</td>\n      <td>-21.3585</td>\n      <td>55.7679</td>\n      <td>26.0</td>\n      <td>69</td>\n      <td>0</td>\n      <td>8.23</td>\n      <td>RE</td>\n    </tr>\n    <tr>\n      <th>10</th>\n      <td>10</td>\n      <td>mahebourg</td>\n      <td>-20.4081</td>\n      <td>57.7000</td>\n      <td>25.0</td>\n      <td>88</td>\n      <td>75</td>\n      <td>6.69</td>\n      <td>MU</td>\n    </tr>\n    <tr>\n      <th>11</th>\n      <td>11</td>\n      <td>bambous virieux</td>\n      <td>-20.3428</td>\n      <td>57.7575</td>\n      <td>25.0</td>\n      <td>88</td>\n      <td>75</td>\n      <td>6.69</td>\n      <td>MU</td>\n    </tr>\n    <tr>\n      <th>21</th>\n      <td>21</td>\n      <td>cairns</td>\n      <td>-16.9167</td>\n      <td>145.7667</td>\n      <td>24.0</td>\n      <td>94</td>\n      <td>90</td>\n      <td>6.17</td>\n      <td>AU</td>\n    </tr>\n    <tr>\n      <th>22</th>\n      <td>22</td>\n      <td>kapaa</td>\n      <td>22.0752</td>\n      <td>-159.3190</td>\n      <td>24.0</td>\n      <td>73</td>\n      <td>40</td>\n      <td>6.17</td>\n      <td>US</td>\n    </tr>\n  </tbody>\n</table>\n</div>"
     },
     "metadata": {},
     "execution_count": 29
    }
   ],
   "source": [
    "Perfec_temp_update = Perfec_temp.drop(index=index_temp2, inplace=False)\n",
    "Perfec_temp_update.head()"
   ]
  },
  {
   "cell_type": "code",
   "execution_count": 32,
   "metadata": {},
   "outputs": [
    {
     "output_type": "execute_result",
     "data": {
      "text/plain": [
       "\"Int64Index([198], dtype='int64')\""
      ]
     },
     "metadata": {},
     "execution_count": 32
    }
   ],
   "source": [
    "#Get Indices for windspeed greater than 10mph\n",
    "index_ws = Perfec_temp_update.index[Perfec_temp_update['Wind Speed']>10]\n",
    "str(index_ws)"
   ]
  },
  {
   "cell_type": "code",
   "execution_count": 33,
   "metadata": {},
   "outputs": [
    {
     "output_type": "execute_result",
     "data": {
      "text/plain": [
       "    Unnamed: 0             city  latitude  Longitude  Temperature Max  \\\n",
       "8            8   saint-philippe  -21.3585    55.7679             26.0   \n",
       "10          10        mahebourg  -20.4081    57.7000             25.0   \n",
       "11          11  bambous virieux  -20.3428    57.7575             25.0   \n",
       "21          21           cairns  -16.9167   145.7667             24.0   \n",
       "22          22            kapaa   22.0752  -159.3190             24.0   \n",
       "\n",
       "    Humidity  Cloudiness  Wind Speed Country  \n",
       "8         69           0        8.23      RE  \n",
       "10        88          75        6.69      MU  \n",
       "11        88          75        6.69      MU  \n",
       "21        94          90        6.17      AU  \n",
       "22        73          40        6.17      US  "
      ],
      "text/html": "<div>\n<style scoped>\n    .dataframe tbody tr th:only-of-type {\n        vertical-align: middle;\n    }\n\n    .dataframe tbody tr th {\n        vertical-align: top;\n    }\n\n    .dataframe thead th {\n        text-align: right;\n    }\n</style>\n<table border=\"1\" class=\"dataframe\">\n  <thead>\n    <tr style=\"text-align: right;\">\n      <th></th>\n      <th>Unnamed: 0</th>\n      <th>city</th>\n      <th>latitude</th>\n      <th>Longitude</th>\n      <th>Temperature Max</th>\n      <th>Humidity</th>\n      <th>Cloudiness</th>\n      <th>Wind Speed</th>\n      <th>Country</th>\n    </tr>\n  </thead>\n  <tbody>\n    <tr>\n      <th>8</th>\n      <td>8</td>\n      <td>saint-philippe</td>\n      <td>-21.3585</td>\n      <td>55.7679</td>\n      <td>26.0</td>\n      <td>69</td>\n      <td>0</td>\n      <td>8.23</td>\n      <td>RE</td>\n    </tr>\n    <tr>\n      <th>10</th>\n      <td>10</td>\n      <td>mahebourg</td>\n      <td>-20.4081</td>\n      <td>57.7000</td>\n      <td>25.0</td>\n      <td>88</td>\n      <td>75</td>\n      <td>6.69</td>\n      <td>MU</td>\n    </tr>\n    <tr>\n      <th>11</th>\n      <td>11</td>\n      <td>bambous virieux</td>\n      <td>-20.3428</td>\n      <td>57.7575</td>\n      <td>25.0</td>\n      <td>88</td>\n      <td>75</td>\n      <td>6.69</td>\n      <td>MU</td>\n    </tr>\n    <tr>\n      <th>21</th>\n      <td>21</td>\n      <td>cairns</td>\n      <td>-16.9167</td>\n      <td>145.7667</td>\n      <td>24.0</td>\n      <td>94</td>\n      <td>90</td>\n      <td>6.17</td>\n      <td>AU</td>\n    </tr>\n    <tr>\n      <th>22</th>\n      <td>22</td>\n      <td>kapaa</td>\n      <td>22.0752</td>\n      <td>-159.3190</td>\n      <td>24.0</td>\n      <td>73</td>\n      <td>40</td>\n      <td>6.17</td>\n      <td>US</td>\n    </tr>\n  </tbody>\n</table>\n</div>"
     },
     "metadata": {},
     "execution_count": 33
    }
   ],
   "source": [
    "Perfec_ws = Perfec_temp_update.drop(index=index_ws, inplace=False)\n",
    "Perfec_ws.head()"
   ]
  },
  {
   "cell_type": "code",
   "execution_count": 37,
   "metadata": {},
   "outputs": [
    {
     "output_type": "execute_result",
     "data": {
      "text/plain": [
       "\"Int64Index([ 10,  11,  21,  22,  24,  25,  29,  47,  55,  57,\\n            ...\\n            520, 527, 528, 530, 533, 535, 537, 541, 548, 555],\\n           dtype='int64', length=105)\""
      ]
     },
     "metadata": {},
     "execution_count": 37
    }
   ],
   "source": [
    "#Get indices for non zero cloudiness\n",
    "index_cloud = Perfec_ws.index[Perfec_ws['Cloudiness'] != 0]\n",
    "str(index_cloud)"
   ]
  },
  {
   "cell_type": "code",
   "execution_count": 38,
   "metadata": {},
   "outputs": [
    {
     "output_type": "execute_result",
     "data": {
      "text/plain": [
       "     Unnamed: 0            city  latitude  Longitude  Temperature Max  \\\n",
       "8             8  saint-philippe  -21.3585    55.7679            26.00   \n",
       "52           52     andros town   24.7000   -77.7667            24.00   \n",
       "199         199          beloha  -25.1667    45.0500            21.48   \n",
       "206         206    saint-pierre  -21.3393    55.4781            26.00   \n",
       "207         207     broken hill  -31.9500   141.4333            21.00   \n",
       "\n",
       "     Humidity  Cloudiness  Wind Speed Country  \n",
       "8          69           0        8.23      RE  \n",
       "52         88           0        1.03      BS  \n",
       "199        74           0        2.51      MG  \n",
       "206        69           0        8.23      RE  \n",
       "207        37           0        5.14      AU  "
      ],
      "text/html": "<div>\n<style scoped>\n    .dataframe tbody tr th:only-of-type {\n        vertical-align: middle;\n    }\n\n    .dataframe tbody tr th {\n        vertical-align: top;\n    }\n\n    .dataframe thead th {\n        text-align: right;\n    }\n</style>\n<table border=\"1\" class=\"dataframe\">\n  <thead>\n    <tr style=\"text-align: right;\">\n      <th></th>\n      <th>Unnamed: 0</th>\n      <th>city</th>\n      <th>latitude</th>\n      <th>Longitude</th>\n      <th>Temperature Max</th>\n      <th>Humidity</th>\n      <th>Cloudiness</th>\n      <th>Wind Speed</th>\n      <th>Country</th>\n    </tr>\n  </thead>\n  <tbody>\n    <tr>\n      <th>8</th>\n      <td>8</td>\n      <td>saint-philippe</td>\n      <td>-21.3585</td>\n      <td>55.7679</td>\n      <td>26.00</td>\n      <td>69</td>\n      <td>0</td>\n      <td>8.23</td>\n      <td>RE</td>\n    </tr>\n    <tr>\n      <th>52</th>\n      <td>52</td>\n      <td>andros town</td>\n      <td>24.7000</td>\n      <td>-77.7667</td>\n      <td>24.00</td>\n      <td>88</td>\n      <td>0</td>\n      <td>1.03</td>\n      <td>BS</td>\n    </tr>\n    <tr>\n      <th>199</th>\n      <td>199</td>\n      <td>beloha</td>\n      <td>-25.1667</td>\n      <td>45.0500</td>\n      <td>21.48</td>\n      <td>74</td>\n      <td>0</td>\n      <td>2.51</td>\n      <td>MG</td>\n    </tr>\n    <tr>\n      <th>206</th>\n      <td>206</td>\n      <td>saint-pierre</td>\n      <td>-21.3393</td>\n      <td>55.4781</td>\n      <td>26.00</td>\n      <td>69</td>\n      <td>0</td>\n      <td>8.23</td>\n      <td>RE</td>\n    </tr>\n    <tr>\n      <th>207</th>\n      <td>207</td>\n      <td>broken hill</td>\n      <td>-31.9500</td>\n      <td>141.4333</td>\n      <td>21.00</td>\n      <td>37</td>\n      <td>0</td>\n      <td>5.14</td>\n      <td>AU</td>\n    </tr>\n  </tbody>\n</table>\n</div>"
     },
     "metadata": {},
     "execution_count": 38
    }
   ],
   "source": [
    "#final DF\n",
    "Final_Weather = Perfec_ws.drop(index=index_cloud, inplace=False)\n",
    "Final_Weather.head()"
   ]
  },
  {
   "cell_type": "markdown",
   "metadata": {},
   "source": [
    "### Hotel Map\n",
    "* Store into variable named `hotel_df`.\n",
    "* Add a \"Hotel Name\" column to the DataFrame.\n",
    "* Set parameters to search for hotels with 5000 meters.\n",
    "* Hit the Google Places API for each city's coordinates.\n",
    "* Store the first Hotel result into the DataFrame.\n",
    "* Plot markers on top of the heatmap."
   ]
  },
  {
   "cell_type": "code",
   "execution_count": null,
   "metadata": {},
   "outputs": [],
   "source": [
    "hotel_df = []\n",
    "Final_Weather[\"Hotel Name\"]=hotel_df"
   ]
  },
  {
   "cell_type": "code",
   "execution_count": null,
   "metadata": {},
   "outputs": [],
   "source": []
  },
  {
   "cell_type": "code",
   "execution_count": null,
   "metadata": {},
   "outputs": [],
   "source": [
    "# NOTE: Do not change any of the code in this cell\n",
    "\n",
    "# Using the template add the hotel marks to the heatmap\n",
    "info_box_template = \"\"\"\n",
    "<dl>\n",
    "<dt>Name</dt><dd>{Hotel Name}</dd>\n",
    "<dt>City</dt><dd>{City}</dd>\n",
    "<dt>Country</dt><dd>{Country}</dd>\n",
    "</dl>\n",
    "\"\"\"\n",
    "# Store the DataFrame Row\n",
    "# NOTE: be sure to update with your DataFrame name\n",
    "hotel_info = [info_box_template.format(**row) for index, row in hotel_df.iterrows()]\n",
    "locations = hotel_df[[\"Lat\", \"Lng\"]]"
   ]
  },
  {
   "cell_type": "code",
   "execution_count": null,
   "metadata": {},
   "outputs": [],
   "source": [
    "# Add marker layer ontop of heat map\n",
    "\n",
    "\n",
    "# Display figure\n"
   ]
  },
  {
   "cell_type": "code",
   "execution_count": null,
   "metadata": {},
   "outputs": [],
   "source": []
  }
 ],
 "metadata": {
  "kernelspec": {
   "name": "python379jvsc74a57bd057deb8346c1d03cc11678442ea41752c54a03d9cfa102a88deffa341ad10309f",
   "display_name": "Python 3.7.9 64-bit ('PythonData': conda)"
  },
  "language_info": {
   "codemirror_mode": {
    "name": "ipython",
    "version": 3
   },
   "file_extension": ".py",
   "mimetype": "text/x-python",
   "name": "python",
   "nbconvert_exporter": "python",
   "pygments_lexer": "ipython3",
   "version": "3.7.9"
  },
  "latex_envs": {
   "LaTeX_envs_menu_present": true,
   "autoclose": false,
   "autocomplete": true,
   "bibliofile": "biblio.bib",
   "cite_by": "apalike",
   "current_citInitial": 1,
   "eqLabelWithNumbers": true,
   "eqNumInitial": 1,
   "hotkeys": {
    "equation": "Ctrl-E",
    "itemize": "Ctrl-I"
   },
   "labels_anchors": false,
   "latex_user_defs": false,
   "report_style_numbering": false,
   "user_envs_cfg": false
  }
 },
 "nbformat": 4,
 "nbformat_minor": 4
}